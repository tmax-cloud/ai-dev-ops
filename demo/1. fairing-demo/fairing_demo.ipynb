{
 "cells": [
  {
   "cell_type": "markdown",
   "metadata": {},
   "source": [
    "# Kubeflow Fairing 라이브러리를 활용한 분산학습 및 서빙 시나리오\n",
    "\n",
    "Version Details of the ai-devops used in scenario\n",
    "- kserve v0.10.0\n",
    "- knative-serving v1.2.5\n",
    "- training-operator v1.5.0\n",
    "- notebook-controller b0.2.8\n",
    "- profile-controller v1.6.1\n",
    "- cluster-local-gateway v1.14.1\n",
    "\n",
    "Scenario Process\n",
    "- Tensorflow 예제를 가져와 분산 학습 지원을 위한 수정사항을 반영한다.\n",
    "- Kubeflow Fairing을 활용하여 도커 이미지를 빌드하고 모델 학습을 위한 TFJob을 생성한다.\n",
    "- 학습된 모델을 서빙하기 위한 inferenceservice 역시 fairing을 통하여 생성한다."
   ]
  },
  {
   "cell_type": "markdown",
   "metadata": {},
   "source": [
    "### Training Code 작성\n",
    "\n",
    "본 시나리오에서는 아래 링크의 Tensoflow 예제를 분산 학습과 모델 서빙에 적합한 형태로 수정하였으며 업데이트된 코드는 다음과 같다. [mnist.py](mnist.py). \n",
    "\n",
    "**참고** [examples](https://github.com/tensorflow/tensorflow/blob/9a24e8acfcd8c9046e1abaac9dbf5e146186f4c2/tensorflow/examples/learn/mnist.py)"
   ]
  },
  {
   "cell_type": "markdown",
   "metadata": {},
   "source": [
    "### 필요 라이브러리 확인"
   ]
  },
  {
   "cell_type": "markdown",
   "metadata": {},
   "source": [
    "ㅇ"
   ]
  },
  {
   "cell_type": "code",
   "execution_count": null,
   "metadata": {},
   "outputs": [],
   "source": [
    "!pip show kubeflow-fairing"
   ]
  },
  {
   "cell_type": "markdown",
   "metadata": {},
   "source": [
    "### Kubeflow fairing을 위한 Registry와 리소스들이 생성될 네임스페이스를 설정한다.\n",
    "\n",
    "* 노트북에서 도커 이미지를 빌드하기위하여 이미지가 저장될 레지스트리를 설정한다.\n",
    "* 단계를 진행하면서 리소스들이 생성될 네임스페이스를 지정한다."
   ]
  },
  {
   "cell_type": "code",
   "execution_count": 2,
   "metadata": {},
   "outputs": [],
   "source": [
    "# 이미지 저장을 위한 도커 레지스트리 설정\n",
    "# 이미지 push를 위한 권한을 보유하고 있는지 확인한다.\n",
    "# 아래의 변수들을 상황에 맞게 설정해준다.\n",
    "DOCKER_REGISTRY = ex) '172.21.5.5:5000'\n",
    "\n",
    "# 네임스페이스 설정\n",
    "my_namespace = 'demo'"
   ]
  },
  {
   "cell_type": "markdown",
   "metadata": {},
   "source": [
    "## 모델 저장을 위한 PV/PVC를 생성\n",
    "\n",
    "Persistent Volume(PV) 와 Persistent Volume Claim(PVC) 를 생성한다.\n",
    "PVC는 아래 단계에서 학습과 서빙 pod에 의해 사용된다.\n",
    "**참고** pv/pvc를 생성하기 위해 notebook pod에 할당된 default-editor SA에 kubeflow-admin clusterrole을 바인딩한다.\n",
    "fairing-demo 디렉토리의 rolebinding-sample.yaml을 활용하여 생성하거나 아래 명령어를 통해 생성한다.\n",
    "```\n",
    "kubectl create rolebinding sample-rolebinding --clusterrole=kubeflow-admin --serviceaccount=demo:default-editor --namespace=demo\n",
    "```"
   ]
  },
  {
   "cell_type": "code",
   "execution_count": 3,
   "metadata": {},
   "outputs": [],
   "source": [
    "# 분산 트레이닝을 위해서 PVC는 클러스터의 모든 노드에서 접근가능하여야한다.\n",
    "# 예시에서는 NFS PV를 활용하엿음.\n",
    "# 아래의 변수들을 상황에 맞게 설정해준다.\n",
    "## storageclass를 통한 Dynamic Provisioning 환경에서는 fairing-demo 디렉토리 내의 pvc-sample을 활용하여 pvc 생성후 추후 단계에서 생성한 pvc를 이용하여 진행한다.\n",
    "nfs_server = ex)'172.21.5.5'\n",
    "nfs_path = ex)'/nfs/test'\n",
    "pv_name = 'kubeflow-mnist'\n",
    "pvc_name = 'mnist-pvc'"
   ]
  },
  {
   "cell_type": "markdown",
   "metadata": {},
   "source": [
    "(Optional) 이미 PV 및 PVC가 생성되어있다면 아래 단계는 건너뛴다. 추후 단계에서 pvc_name이 변수로 사용되는 경우가 있으므로 미리 생성해놓은 PVC의 이름은 위 변수 설정 단계에서 설정한다.\n",
    "\n",
    "- storageclass를 사용하는 경우에는 pv를 생성하지 않아도 되므로 아래코드를 활용하지 않고 fairing-demo 디렉토리 내의 pvc-sample을 활용하여 생성한다.\n",
    "\n",
    "- 해당 sample에는 storageclass 필드를 명시하지 않아 자동으로 default StorageClass를 활용하도록 되어있으며 수동지정을 위해서는 spec.storageClassName필드에 원하는 \n",
    "스토리지클래스를 지정한다."
   ]
  },
  {
   "cell_type": "code",
   "execution_count": null,
   "metadata": {},
   "outputs": [],
   "source": [
    "from kubernetes import client as k8s_client\n",
    "from kubernetes import config as k8s_config\n",
    "from kubeflow.fairing.utils import is_running_in_k8s\n",
    "import yaml\n",
    "\n",
    "pv_yaml = f'''\n",
    "apiVersion: v1\n",
    "kind: PersistentVolume\n",
    "metadata:\n",
    "  name: {pv_name}\n",
    "spec:\n",
    "  capacity:\n",
    "    storage: 10Gi\n",
    "  accessModes:\n",
    "  - ReadWriteMany\n",
    "  persistentVolumeReclaimPolicy: Retain\n",
    "  nfs:\n",
    "    path: {nfs_path}\n",
    "    server: {nfs_server}\n",
    "'''\n",
    "pvc_yaml = f'''\n",
    "apiVersion: v1\n",
    "kind: PersistentVolumeClaim\n",
    "metadata:\n",
    "  name: {pvc_name}\n",
    "  namespace: {my_namespace}\n",
    "spec:\n",
    "  accessModes:\n",
    "    - ReadWriteMany\n",
    "  storageClassName: \"\"\n",
    "  resources:\n",
    "    requests:\n",
    "      storage: 10Gi\n",
    "'''\n",
    "\n",
    "if is_running_in_k8s():\n",
    "    k8s_config.load_incluster_config()\n",
    "else:\n",
    "    k8s_config.load_kube_config()\n",
    "\n",
    "k8s_core_api = k8s_client.CoreV1Api()\n",
    "k8s_core_api.create_persistent_volume(yaml.safe_load(pv_yaml))\n",
    "k8s_core_api.create_namespaced_persistent_volume_claim(my_namespace, yaml.safe_load(pvc_yaml))"
   ]
  },
  {
   "cell_type": "markdown",
   "metadata": {},
   "source": [
    "## Kubeflow Fairing을 사용한 도커 이미지 빌드 및 TFJob을 통한 학습\n",
    "\n",
    "* kubeflow fairing을 통해 필요한 dependency가 포함된 도커 이미지를 빌드한다.\n",
    "* 모델 학습을 위해 클러스터에 TFJob을 생성한다."
   ]
  },
  {
   "cell_type": "markdown",
   "metadata": {},
   "source": [
    "먼저, 몇가지 parameter들을 설정한다."
   ]
  },
  {
   "cell_type": "code",
   "execution_count": 5,
   "metadata": {},
   "outputs": [],
   "source": [
    "num_chief = 1 #number of Chief in TFJob \n",
    "num_ps = 1  #number of PS in TFJob \n",
    "num_workers = 2  #number of Worker in TFJob \n",
    "model_dir = \"/mnt\"\n",
    "export_path = \"/mnt/export\" \n",
    "train_steps = \"1000\"\n",
    "batch_size = \"100\"\n",
    "learning_rate = \"0.01\""
   ]
  },
  {
   "cell_type": "markdown",
   "metadata": {},
   "source": [
    "도커 이미지를 빌드하고 레지스트리에 푸쉬한 뒤 분산 학습을 위한 TFJob을 생성한다.\n",
    "\n",
    "*kubeflow.fairing.builders.cluster.minio_context가 없다는 에러가 뜬다면, 아래의 코드를 통해 kubeflow-fairing 라이브러리를 업데이트한다.\n",
    "*에러가 발생하지 않으면 아래 코드는 실행하지 않는다."
   ]
  },
  {
   "cell_type": "code",
   "execution_count": null,
   "metadata": {},
   "outputs": [],
   "source": [
    "!pip install --upgrade pip"
   ]
  },
  {
   "cell_type": "code",
   "execution_count": null,
   "metadata": {},
   "outputs": [],
   "source": [
    "!pip install kubeflow-fairing --upgrade"
   ]
  },
  {
   "cell_type": "code",
   "execution_count": null,
   "metadata": {},
   "outputs": [],
   "source": [
    "import uuid\n",
    "from kubeflow import fairing   \n",
    "from kubeflow.fairing.kubernetes.utils import mounting_pvc\n",
    "from kubeflow.fairing.kubernetes import utils as k8s_utils\n",
    "from kubeflow.fairing.builders.cluster.minio_context import MinioContextSource\n",
    "\n",
    "minio_context_source = MinioContextSource(endpoint_url='http://minio-service.kubeflow.svc.cluster.local:9000', \n",
    "                                                  minio_secret='minio', \n",
    "                                                  minio_secret_key='minio123', \n",
    "                                                  region_name='us-east-1')\n",
    "\n",
    "tfjob_name = f'mnist-training-{uuid.uuid4().hex[:4]}'\n",
    "\n",
    "output_map =  {\n",
    "    \"Dockerfile\": \"Dockerfile\",\n",
    "    \"mnist.py\": \"mnist.py\"\n",
    "}\n",
    "\n",
    "command=[\"python\",\n",
    "         \"/opt/mnist.py\",\n",
    "         \"--tf-model-dir=\" + model_dir,\n",
    "         \"--tf-export-dir=\" + export_path,\n",
    "         \"--tf-train-steps=\" + train_steps,\n",
    "         \"--tf-batch-size=\" + batch_size,\n",
    "         \"--tf-learning-rate=\" + learning_rate]\n",
    "\n",
    "fairing.config.set_preprocessor('python', command=command, path_prefix=\"/app\", output_map=output_map)\n",
    "fairing.config.set_builder(name='cluster', registry=DOCKER_REGISTRY, base_image=\"\",\n",
    "                           image_name=\"mnist\", dockerfile_path=\"Dockerfile\", context_source=minio_context_source, push=True)\n",
    "fairing.config.set_deployer(name='tfjob', namespace=my_namespace, stream_log=False, job_name=tfjob_name,\n",
    "                            chief_count=num_chief, worker_count=num_workers, ps_count=num_ps, \n",
    "                            pod_spec_mutators=[mounting_pvc(pvc_name=pvc_name, pvc_mount_path=model_dir)])\n",
    "fairing.config.run()"
   ]
  },
  {
   "cell_type": "markdown",
   "metadata": {},
   "source": [
    "### 생성된 TFJob 조회"
   ]
  },
  {
   "cell_type": "code",
   "execution_count": null,
   "metadata": {},
   "outputs": [],
   "source": [
    "from kubeflow.tfjob import TFJobClient\n",
    "tfjob_client = TFJobClient()\n",
    "\n",
    "tfjob_client.get(tfjob_name, namespace=my_namespace)"
   ]
  },
  {
   "cell_type": "markdown",
   "metadata": {},
   "source": [
    "### Training job의 종료 대기"
   ]
  },
  {
   "cell_type": "code",
   "execution_count": null,
   "metadata": {},
   "outputs": [],
   "source": [
    "tfjob_client.wait_for_job(tfjob_name, namespace=my_namespace, watch=True)"
   ]
  },
  {
   "cell_type": "markdown",
   "metadata": {},
   "source": [
    "### TFJob 성공여부 확인"
   ]
  },
  {
   "cell_type": "code",
   "execution_count": null,
   "metadata": {},
   "outputs": [],
   "source": [
    "tfjob_client.is_job_succeeded(tfjob_name, namespace=my_namespace)"
   ]
  },
  {
   "cell_type": "markdown",
   "metadata": {},
   "source": [
    "### Training 로그 조회"
   ]
  },
  {
   "cell_type": "code",
   "execution_count": null,
   "metadata": {},
   "outputs": [],
   "source": [
    "tfjob_client.get_logs(tfjob_name, namespace=my_namespace)"
   ]
  },
  {
   "cell_type": "markdown",
   "metadata": {},
   "source": [
    "## Kserve를 통한 추론 서비스 배포"
   ]
  },
  {
   "cell_type": "code",
   "execution_count": null,
   "metadata": {},
   "outputs": [],
   "source": [
    "!pip install kserve==0.7.0"
   ]
  },
  {
   "cell_type": "code",
   "execution_count": null,
   "metadata": {},
   "outputs": [],
   "source": [
    "isvc_name = f'mnist-service-{uuid.uuid4().hex[:4]}'\n",
    "default_storage_uri='pvc://' + pvc_name + '/export'"
   ]
  },
  {
   "cell_type": "code",
   "execution_count": null,
   "metadata": {},
   "outputs": [],
   "source": [
    "from kubernetes import client \n",
    "from kserve import KServeClient\n",
    "from kserve import constants\n",
    "from kserve import utils\n",
    "from kserve import V1beta1InferenceService\n",
    "from kserve import V1beta1InferenceServiceSpec\n",
    "from kserve import V1beta1PredictorSpec\n",
    "from kserve import V1beta1SKLearnSpec\n",
    "\n",
    "\n",
    "kserve_version='v1beta1'\n",
    "api_version = constants.KSERVE_GROUP + '/' + kserve_version\n",
    "\n",
    "isvc = V1beta1InferenceService(api_version=api_version,\n",
    "                               kind=constants.KSERVE_KIND,\n",
    "                               metadata=client.V1ObjectMeta(\n",
    "                                   name=isvc_name, namespace=my_namespace),\n",
    "                               spec=V1beta1InferenceServiceSpec(\n",
    "                               predictor=V1beta1PredictorSpec(\n",
    "                               sklearn=(V1beta1SKLearnSpec(\n",
    "                                   storage_uri=default_storage_uri))))\n",
    ")\n",
    "\n",
    "\n"
   ]
  },
  {
   "cell_type": "code",
   "execution_count": null,
   "metadata": {},
   "outputs": [],
   "source": [
    "KServe = KServeClient()\n",
    "KServe.create(isvc)"
   ]
  },
  {
   "cell_type": "markdown",
   "metadata": {},
   "source": [
    "### 생성한 inferenceservice 조회"
   ]
  },
  {
   "cell_type": "code",
   "execution_count": null,
   "metadata": {},
   "outputs": [],
   "source": [
    "KServe.get(isvc_name, namespace=my_namespace, watch=True, timeout_seconds=120)"
   ]
  },
  {
   "cell_type": "markdown",
   "metadata": {},
   "source": [
    "### 추론 서비스 엔드포인트 확인"
   ]
  },
  {
   "cell_type": "code",
   "execution_count": null,
   "metadata": {},
   "outputs": [],
   "source": [
    "mnist_isvc = KServe.get(isvc_name, namespace=my_namespace)\n",
    "mnist_isvc_name = mnist_isvc['metadata']['name']\n",
    "mnist_isvc_endpoint = mnist_isvc['status'].get('url', '')\n",
    "print(\"MNIST Service Endpoint: \" + mnist_isvc_endpoint)"
   ]
  },
  {
   "cell_type": "markdown",
   "metadata": {},
   "source": [
    "### 추론 서비스에 대한 prediction 요청 실행"
   ]
  },
  {
   "cell_type": "code",
   "execution_count": null,
   "metadata": {},
   "outputs": [],
   "source": [
    "ISTIO_CLUSTER_IP=!kubectl -n istio-system get service ingressgateway -o jsonpath='{.spec.clusterIP}'\n",
    "CLUSTER_IP=ISTIO_CLUSTER_IP[0]\n",
    "MODEL_HOST=f\"Host: {mnist_isvc_name}.{my_namespace}.example.com\"\n",
    "!curl -v -H \"{MODEL_HOST}\" http://{CLUSTER_IP}/v1/models/{mnist_isvc_name}:predict -d @./input.json"
   ]
  },
  {
   "cell_type": "markdown",
   "metadata": {},
   "source": [
    "## 리소스 삭제"
   ]
  },
  {
   "cell_type": "markdown",
   "metadata": {},
   "source": [
    "TFJob 삭제"
   ]
  },
  {
   "cell_type": "code",
   "execution_count": null,
   "metadata": {},
   "outputs": [],
   "source": [
    "tfjob_client.delete(tfjob_name, namespace=my_namespace)"
   ]
  },
  {
   "cell_type": "markdown",
   "metadata": {},
   "source": [
    "InferenceService 삭제"
   ]
  },
  {
   "cell_type": "code",
   "execution_count": null,
   "metadata": {},
   "outputs": [],
   "source": [
    "KServe.delete(isvc_name, namespace=my_namespace)\n"
   ]
  }
 ],
 "metadata": {
  "kernelspec": {
   "display_name": "Python 3",
   "language": "python",
   "name": "python3"
  },
  "language_info": {
   "codemirror_mode": {
    "name": "ipython",
    "version": 3
   },
   "file_extension": ".py",
   "mimetype": "text/x-python",
   "name": "python",
   "nbconvert_exporter": "python",
   "pygments_lexer": "ipython3",
   "version": "3.6.8"
  }
 },
 "nbformat": 4,
 "nbformat_minor": 4
}
